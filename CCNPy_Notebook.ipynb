{
 "cells": [
  {
   "cell_type": "markdown",
   "metadata": {},
   "source": [
    "# Github supports notebooks\n"
   ]
  },
  {
   "cell_type": "code",
   "execution_count": 1,
   "metadata": {},
   "outputs": [
    {
     "name": "stdout",
     "output_type": "stream",
     "text": [
      "Hello Github\n"
     ]
    }
   ],
   "source": [
    "def function():\n",
    "    print \"Hello Github\"\n",
    "    \n",
    "function()"
   ]
  },
  {
   "cell_type": "markdown",
   "metadata": {
    "collapsed": true
   },
   "source": [
    "## Sanjay testing"
   ]
  },
  {
   "cell_type": "code",
   "execution_count": null,
   "metadata": {},
   "outputs": [],
   "source": [
    "class Model(object):\n",
    "    def __init__(self, channels, domain, stimuli, noise, tuning_function):\n",
    "        self.channels = channels\n",
    "        self.domain = domain\n",
    "        self.stimuli = stimuli\n",
    "        self.noise = noise\n",
    "        self.tuning_function = tuning_function\n",
    "    \n",
    "    def fabian_FUNC(self,)\n",
    "        pass\n",
    "    def sanaz_FUNC(self,)\n",
    "        pass\n",
    "    def jason_FUNC(self,)\n",
    "        pass\n",
    "    def sanjay_FUNC(self,)\n",
    "        pass\n",
    "    def ali_FUNC(self,)\n",
    "        pass\n",
    "    \n",
    "        \n",
    "    "
   ]
  }
 ],
 "metadata": {
  "kernelspec": {
   "display_name": "Python 2",
   "language": "python",
   "name": "python2"
  },
  "language_info": {
   "codemirror_mode": {
    "name": "ipython",
    "version": 2
   },
   "file_extension": ".py",
   "mimetype": "text/x-python",
   "name": "python",
   "nbconvert_exporter": "python",
   "pygments_lexer": "ipython2",
   "version": "2.7.14"
  }
 },
 "nbformat": 4,
 "nbformat_minor": 2
}
